{
 "cells": [
  {
   "cell_type": "markdown",
   "metadata": {},
   "source": [
    "# Measuring Neutrino Mass\n",
    "\n",
    "Despite the neutrino being the most abundant (matter) particle in the universe we still do not know one of its fundamental characteristics, its mass. Neutrino oscillation experiments have proven definitively that neutrinos must have mass (otherwise they would not be able to change flavour via quantum mechanical mixing), but the absolute value of the mass is almost completely unknown.\n",
    "\n",
    "## How do we measure the neutrino mass?\n",
    "\n",
    "Way back in the 1930s Enrico Fermi (who named the neutrino) was the first to suggest a way of measuring the neutrino mass. His solution was to look at the energy of electrons coming from beta decay.\n",
    "\n",
    "![Fermi's Beta decay sketch showing the effect of light or heavy neutrinos.](https://www.hep.ucl.ac.uk/undergrad/0056/other/projects/cres/fermiBetaSpectrum.png \"Fermi's Beta Decay Sketch\")\n",
    "\n",
    "\n",
    "## So we can measure the electron energy, but how do we do that?\n",
    "\n",
    "One of the most promising techniques for measuring the neutrino mass is called cyclotron radiation emission spectroscopy (CRES). In this process an electron with kinetic energy $T$ is placed in a magentic field and the electron undergoes cyclotron motion about the magnetic field lines. \n",
    "\n",
    "### Cyclotron radiation\n",
    "The angular cyclotron frequency, $\\omega_c$, of an electron with kinetic energy $T$ and mass $m_{e}$ in a magnetic field $B$ is\n",
    "$$ \\omega_{C} = \\frac{eB}{\\gamma m_e}=\\frac{eB}{m_e + T/c^2} $$\n",
    "The cyclotron frequency $f_c$ is related to the angular cyclotron frequency in the usual fashion.\n",
    "$$ f_c = \\frac{\\omega_c}{2 \\pi} $$\n",
    "\n",
    "Since a charge moving in a circle is continually accelerating, and accelerating charges radiate, we can measure the energy of the electron by measuring the frequency of the emitted radiation.\n",
    "\n",
    "## Caution ugly code ahead\n",
    "### It is not required to understand the code here\n"
   ]
  },
  {
   "cell_type": "code",
   "execution_count": 1,
   "metadata": {},
   "outputs": [
    {
     "name": "stderr",
     "output_type": "stream",
     "text": [
      "C:\\Users\\thuit\\anaconda3\\lib\\site-packages\\scipy\\__init__.py:138: UserWarning: A NumPy version >=1.16.5 and <1.23.0 is required for this version of SciPy (detected version 1.23.0)\n",
      "  warnings.warn(f\"A NumPy version >={np_minversion} and <{np_maxversion} is required for this version of \"\n"
     ]
    }
   ],
   "source": [
    "import numpy as np\n",
    "import matplotlib.pyplot as plt \n",
    "from PyFFTTools import PyFFTTools as pft\n",
    "from PyFFTTools import MockCresGenerator\n",
    "from scipy.fft import rfft, irfft  # Import the fft and inverse fft functions\n",
    "import math\n",
    "import keras"
   ]
  },
  {
   "cell_type": "code",
   "execution_count": 2,
   "metadata": {},
   "outputs": [
    {
     "name": "stdout",
     "output_type": "stream",
     "text": [
      "low,high 10000000.0 40000000.0\n"
     ]
    },
    {
     "name": "stderr",
     "output_type": "stream",
     "text": [
      "C:\\Users\\thuit\\MACHINE LEARNING ------------------\\Mini-Project\\PyFFTTools.py:549: RuntimeWarning: divide by zero encountered in divide\n",
      "  return 1./(1+np.power(fc/xf,2*order))\n",
      "C:\\Users\\thuit\\MACHINE LEARNING ------------------\\Mini-Project\\PyFFTTools.py:430: RuntimeWarning: divide by zero encountered in log10\n",
      "  return 20*np.log10(gain)\n"
     ]
    }
   ],
   "source": [
    "# Get the MockCresGenerator\n",
    "mcg =MockCresGenerator(int(2e5))"
   ]
  },
  {
   "cell_type": "code",
   "execution_count": 3,
   "metadata": {},
   "outputs": [],
   "source": [
    "\n",
    "class CresGeneratorKeras(keras.utils.Sequence):     \n",
    "    'Here is an example'\n",
    "    def __init__(self, batch_size=32,images_per_epoch=1024,wavesNotSpect=False):\n",
    "        'Initialization'\n",
    "        self.batch_size = batch_size\n",
    "        self.images_per_epoch=images_per_epoch\n",
    "        self.mcg=MockCresGenerator()\n",
    "        self.wavesNotSpect=wavesNotSpect\n",
    "        if self.wavesNotSpect:\n",
    "            self.dim=mcg.t.shape\n",
    "        else:\n",
    "            self.dim=(600,100) #Hard coded for now\n",
    "         \n",
    "    def __len__(self):\n",
    "        'Denotes the number of batches per epoch'\n",
    "        return int(np.floor(self.images_per_epoch / self.batch_size))\n",
    "\n",
    "    def __getitem__(self, index):\n",
    "        'Generate one batch of data'\n",
    "        X = np.empty((self.batch_size, *self.dim))\n",
    "        y = np.empty((self.batch_size),  dtype=float)\n",
    "        t0s=np.random.uniform(0,1e-3,(self.batch_size))\n",
    "        f0s=np.random.uniform(20e6,30e6,(self.batch_size))\n",
    "        c0s=np.random.uniform(350e6,450e6,(self.batch_size))\n",
    "        eps=np.ones((self.batch_size))\n",
    "        Ts=np.random.uniform(30,80,(self.batch_size))\n",
    "        for i in range(self.batch_size):\n",
    "            wave=self.mcg.getSignalPlusNoise(c0s[i],f0s[i],t0s[i],Ts[i])\n",
    "            y[i]=f0s[i] # Aim for the intitial frequency\n",
    "            if self.wavesNotSpect:\n",
    "                X[i]=wave\n",
    "            else:\n",
    "                fmin,fmax,spect=mcg.getSpectrogramFromWaveform(signal)\n",
    "                X[i]=spect\n",
    "        return X/1e-9, (y-25e6)/10e6"
   ]
  },
  {
   "cell_type": "code",
   "execution_count": 4,
   "metadata": {},
   "outputs": [
    {
     "name": "stdout",
     "output_type": "stream",
     "text": [
      "0.0\n",
      "(600, 100)\n"
     ]
    },
    {
     "data": {
      "image/png": "[encoded data removed]",
      "text/plain": [
       "<Figure size 432x288 with 2 Axes>"
      ]
     },
     "metadata": {
      "needs_background": "light"
     },
     "output_type": "display_data"
    }
   ],
   "source": [
    "signal=mcg.getSignalPlusNoise(400e6,25e6,0.1e-3, 0)\n",
    "fmin,fmax,spect=mcg.getSpectrogramFromWaveform(signal)\n",
    "\n",
    "spect = spect/np.max(spect)\n",
    "\n",
    "plt.imshow(spect,extent=[mcg.t[0]*1e3,mcg.t[-1]*1e3,fmin/1e6,fmax/1e6],aspect='auto',origin='lower', cmap = 'gray')\n",
    "plt.colorbar()\n",
    "\n",
    "print(np.min(spect))\n",
    "print(np.shape(spect))"
   ]
  },
  {
   "cell_type": "markdown",
   "metadata": {},
   "source": [
    "# Extension task: generate custom data to investigate how the accuracy depends on the noise temperature. We will generate noiseless data to set a standard for what the ideal accuracy could look like."
   ]
  },
  {
   "cell_type": "code",
   "execution_count": 5,
   "metadata": {},
   "outputs": [],
   "source": [
    "noiseless_images = np.zeros((10000, 600, 100))\n",
    "\n",
    "# Generate two arrays of size 10000\n",
    "freqs = np.random.uniform(11e6, 39e6, size=(10000,))\n",
    "times = np.random.uniform(0.1e-3, 1.75e-3, size=(10000,))\n",
    "# Stack the arrays vertically to form a 10000x2 array\n",
    "noiseless_labels = np.vstack((times, freqs)).T\n",
    "\n",
    "for i in range(10000):\n",
    "    signal=mcg.getSignalPlusNoise(400e6,freqs[i],times[i], 0)\n",
    "    fmin,fmax,spect=mcg.getSpectrogramFromWaveform(signal) \n",
    "    \n",
    "    noiseless_images[i] = spect"
   ]
  },
  {
   "cell_type": "code",
   "execution_count": 9,
   "metadata": {},
   "outputs": [
    {
     "name": "stdout",
     "output_type": "stream",
     "text": [
      "0.1577013831910437 24.058598467218776\n"
     ]
    },
    {
     "data": {
      "image/png": "[encoded data removed]",
      "text/plain": [
       "<Figure size 432x288 with 2 Axes>"
      ]
     },
     "metadata": {
      "needs_background": "light"
     },
     "output_type": "display_data"
    }
   ],
   "source": [
    "whichImage = 7500\n",
    "\n",
    "plt.imshow(noiseless_images[whichImage],extent=[mcg.t[0]*1e3,mcg.t[-1]*1e3,fmin/1e6,fmax/1e6],aspect='auto',origin='lower', cmap = 'gray')\n",
    "plt.plot(noiseless_labels[whichImage, 0]*1e3, noiseless_labels[whichImage, 1]/1e6, 'r+')\n",
    "\n",
    "plt.xlabel('Time (ms)')\n",
    "plt.ylabel('Frequency (MHz)')\n",
    "plt.colorbar()\n",
    "\n",
    "print(noiseless_labels[whichImage, 0]*1e3, noiseless_labels[whichImage, 1]/1e6)"
   ]
  },
  {
   "cell_type": "code",
   "execution_count": 11,
   "metadata": {},
   "outputs": [
    {
     "name": "stdout",
     "output_type": "stream",
     "text": [
      "[0.09013314 0.61689119]\n"
     ]
    },
    {
     "data": {
      "image/png": "[encoded data removed]",
      "text/plain": [
       "<Figure size 432x288 with 2 Axes>"
      ]
     },
     "metadata": {
      "needs_background": "light"
     },
     "output_type": "display_data"
    }
   ],
   "source": [
    "# Normalise images\n",
    "for i in range(10000):\n",
    "    noiseless_images[i] = noiseless_images[i]/np.max(noiseless_images[i])\n",
    "\n",
    "\n",
    "# Find max of each array\n",
    "max_freq = np.max(freqs)\n",
    "max_time = np.max(times)\n",
    "\n",
    "normed_freqs = freqs/max_freq\n",
    "normed_times = times/max_time\n",
    "# Stack the arrays vertically to form a 10000x2 array\n",
    "normed_labels = np.vstack((normed_times, normed_freqs)).T\n",
    "\n",
    "\n",
    "\n",
    "whichImage = 7500\n",
    "\n",
    "plt.imshow(noiseless_images[whichImage],extent=[mcg.t[0]*1e3,mcg.t[-1]*1e3,fmin/1e6,fmax/1e6],aspect='auto',origin='lower', cmap = 'gray')\n",
    "plt.plot(normed_labels[whichImage, 0]*1e3*max_time, normed_labels[whichImage, 1]/1e6*max_freq, 'r+')\n",
    "plt.colorbar()\n",
    "\n",
    "print(normed_labels[whichImage])"
   ]
  },
  {
   "cell_type": "code",
   "execution_count": 12,
   "metadata": {},
   "outputs": [],
   "source": [
    "num_samples = 9000 # Number of training samples\n",
    "\n",
    "image_sample = noiseless_images[:num_samples] # Create training sample, size (num_samples, 600, 100)\n",
    "labels_sample = normed_labels[:num_samples] # Training labels, size (num_samples, 2)\n",
    "\n",
    "# Reshape images array to have 3 dimensions (batch_size, height, width, channels)\n",
    "images_reshaped = np.reshape(image_sample, (num_samples, 600, 100, 1))"
   ]
  },
  {
   "cell_type": "code",
   "execution_count": 18,
   "metadata": {},
   "outputs": [
    {
     "name": "stdout",
     "output_type": "stream",
     "text": [
      "Model: \"sequential_2\"\n",
      "_________________________________________________________________\n",
      " Layer (type)                Output Shape              Param #   \n",
      "=================================================================\n",
      " flatten_2 (Flatten)         (None, 60000)             0         \n",
      "                                                                 \n",
      " dense_8 (Dense)             (None, 128)               7680128   \n",
      "                                                                 \n",
      " dropout_6 (Dropout)         (None, 128)               0         \n",
      "                                                                 \n",
      " dense_9 (Dense)             (None, 1024)              132096    \n",
      "                                                                 \n",
      " dropout_7 (Dropout)         (None, 1024)              0         \n",
      "                                                                 \n",
      " dense_10 (Dense)            (None, 1024)              1049600   \n",
      "                                                                 \n",
      " dropout_8 (Dropout)         (None, 1024)              0         \n",
      "                                                                 \n",
      " dense_11 (Dense)            (None, 2)                 2050      \n",
      "                                                                 \n",
      "=================================================================\n",
      "Total params: 8863874 (33.81 MB)\n",
      "Trainable params: 8863874 (33.81 MB)\n",
      "Non-trainable params: 0 (0.00 Byte)\n",
      "_________________________________________________________________\n",
      "Epoch 1/12\n",
      "254/254 [==============================] - 21s 79ms/step - loss: 0.0147 - accuracy: 0.8720 - val_loss: 0.0050 - val_accuracy: 0.9367\n",
      "Epoch 2/12\n",
      "254/254 [==============================] - 18s 72ms/step - loss: 0.0046 - accuracy: 0.9291 - val_loss: 0.0039 - val_accuracy: 0.9278\n",
      "Epoch 3/12\n",
      "254/254 [==============================] - 18s 71ms/step - loss: 0.0034 - accuracy: 0.9374 - val_loss: 0.0042 - val_accuracy: 0.9522\n",
      "Epoch 4/12\n",
      "254/254 [==============================] - 18s 71ms/step - loss: 0.0029 - accuracy: 0.9398 - val_loss: 0.0033 - val_accuracy: 0.9522\n",
      "Epoch 5/12\n",
      "254/254 [==============================] - 19s 76ms/step - loss: 0.0025 - accuracy: 0.9479 - val_loss: 0.0021 - val_accuracy: 0.9522\n",
      "Epoch 6/12\n",
      "254/254 [==============================] - 19s 75ms/step - loss: 0.0022 - accuracy: 0.9421 - val_loss: 0.0023 - val_accuracy: 0.9600\n",
      "Epoch 7/12\n",
      "254/254 [==============================] - 19s 76ms/step - loss: 0.0021 - accuracy: 0.9501 - val_loss: 0.0023 - val_accuracy: 0.9644\n",
      "Epoch 8/12\n",
      "254/254 [==============================] - 19s 75ms/step - loss: 0.0020 - accuracy: 0.9498 - val_loss: 0.0022 - val_accuracy: 0.9556\n",
      "Epoch 9/12\n",
      "254/254 [==============================] - 19s 73ms/step - loss: 0.0018 - accuracy: 0.9537 - val_loss: 0.0028 - val_accuracy: 0.9656\n",
      "Epoch 10/12\n",
      "254/254 [==============================] - 19s 73ms/step - loss: 0.0018 - accuracy: 0.9543 - val_loss: 0.0020 - val_accuracy: 0.9733\n",
      "Epoch 11/12\n",
      "254/254 [==============================] - 18s 71ms/step - loss: 0.0018 - accuracy: 0.9556 - val_loss: 0.0027 - val_accuracy: 0.9378\n",
      "Epoch 12/12\n",
      "254/254 [==============================] - 18s 71ms/step - loss: 0.0017 - accuracy: 0.9530 - val_loss: 0.0022 - val_accuracy: 0.9667\n"
     ]
    }
   ],
   "source": [
    "# Define CNN architecture\n",
    "model = keras.Sequential([\n",
    "    keras.layers.Flatten(input_shape=(600, 100, 1)),\n",
    "    keras.layers.Dense(128, activation='relu'),\n",
    "    keras.layers.Dropout(0.3),  # Add Dropout layer\n",
    "    keras.layers.Dense(1024, activation='relu'),\n",
    "    keras.layers.Dropout(0.3),  # Add Dropout layer\n",
    "    keras.layers.Dense(1024, activation='relu'),\n",
    "    keras.layers.Dropout(0.3),  # Add Dropout layer\n",
    "    keras.layers.Dense(2, activation='sigmoid')  # Output layer with 2 neurons\n",
    "])\n",
    "\n",
    "# Compile the model\n",
    "model.compile(optimizer='adam',\n",
    "              loss='mse',\n",
    "              metrics=['accuracy'])\n",
    "\n",
    "# Print model summary\n",
    "model.summary()\n",
    "\n",
    "\n",
    "\n",
    "history = model.fit(images_reshaped, labels_sample, epochs=12, batch_size=32,\n",
    "                    validation_split = 0.1)"
   ]
  },
  {
   "cell_type": "markdown",
   "metadata": {},
   "source": [
    "## Create epoch against loss plot:"
   ]
  },
  {
   "cell_type": "code",
   "execution_count": 16,
   "metadata": {},
   "outputs": [
    {
     "data": {
      "text/plain": [
       "<matplotlib.legend.Legend at 0x295e8cc5a30>"
      ]
     },
     "execution_count": 16,
     "metadata": {},
     "output_type": "execute_result"
    },
    {
     "data": {
      "image/png": "[encoded data removed]",
      "text/plain": [
       "<Figure size 432x288 with 1 Axes>"
      ]
     },
     "metadata": {
      "needs_background": "light"
     },
     "output_type": "display_data"
    }
   ],
   "source": [
    "plt.plot(history.history['loss'], label='loss')\n",
    "plt.plot(history.history['val_loss'], label = 'val_loss')\n",
    "plt.xlabel('Epoch')\n",
    "plt.ylabel('Loss')\n",
    "plt.legend(loc='lower right')"
   ]
  },
  {
   "cell_type": "code",
   "execution_count": 94,
   "metadata": {},
   "outputs": [
    {
     "name": "stdout",
     "output_type": "stream",
     "text": [
      "313/313 [==============================] - 3s 7ms/step\n"
     ]
    }
   ],
   "source": [
    "num_samples = 10000 # Now use all 10000 images - we can test on unseen data\n",
    "\n",
    "test_images = noiseless_images[:num_samples]\n",
    "test_images_reshaped = np.reshape(test_images, (num_samples, 600, 100, 1))\n",
    "\n",
    "prediction = model.predict(test_images_reshaped)"
   ]
  },
  {
   "cell_type": "code",
   "execution_count": 114,
   "metadata": {},
   "outputs": [
    {
     "name": "stdout",
     "output_type": "stream",
     "text": [
      "Normalised Prediction:  [0.8726021  0.45906848]\n",
      "Normalised Truth value:  [0.87577631 0.44533303]\n"
     ]
    },
    {
     "data": {
      "text/plain": [
       "<matplotlib.legend.Legend at 0x2fa48871df0>"
      ]
     },
     "execution_count": 114,
     "metadata": {},
     "output_type": "execute_result"
    },
    {
     "data": {
      "image/png": "[encoded data removed]",
      "text/plain": [
       "<Figure size 432x288 with 1 Axes>"
      ]
     },
     "metadata": {
      "needs_background": "light"
     },
     "output_type": "display_data"
    }
   ],
   "source": [
    "whichEvent = 9810\n",
    "\n",
    "print('Normalised Prediction: ', prediction[whichEvent])\n",
    "print('Normalised Truth value: ', normed_labels[whichEvent])\n",
    "#print('') # Space between lines\n",
    "#print('Absolute Prediction: ', prediction[whichEvent]*[t0_array_max, f0_array_max], 'in units [time (ms), frequency (MHz)]')\n",
    "#print('Absolute Truth value: ', noiseless_labels[whichEvent]*[t0_array_max, f0_array_max], 'in units [time (ms), frequency (MHz)]')\n",
    "\n",
    "plt.imshow(noiseless_images[whichEvent], cmap='gray', extent=[0,2,10,40], aspect='auto', origin='lower')\n",
    "plt.plot(prediction[whichEvent, 0]*1e3*max_time, prediction[whichEvent, 1]/1e6*max_freq, 'g+', label = 'Predicted value')\n",
    "plt.plot(noiseless_labels[whichEvent, 0]*1e3, noiseless_labels[whichEvent, 1]/1e6, 'r+', label = 'Truth value')\n",
    "plt.legend()"
   ]
  },
  {
   "cell_type": "code",
   "execution_count": 115,
   "metadata": {},
   "outputs": [
    {
     "name": "stdout",
     "output_type": "stream",
     "text": [
      "Mean distance for train data:  0.032888536096842724\n",
      "Standard deviation for train data:  0.020100420795478118\n",
      " \n",
      "Mean distance for validation data:  0.03354941783846314\n",
      "Standard deviation for validation data:  0.020909052959193864\n"
     ]
    }
   ],
   "source": [
    "# Calculate squared differences between the coordinates\n",
    "squared_diff = np.sum((prediction - normed_labels) ** 2, axis=1)\n",
    "\n",
    "# Take square root of the sum to get distance\n",
    "distances = np.sqrt(squared_diff)\n",
    "\n",
    "\n",
    "\n",
    "print('Mean distance for train data: ', np.mean(distances[:9000]))\n",
    "print('Standard deviation for train data: ', np.std(distances[:9000]))\n",
    "print(' ') # Blank line\n",
    "print('Mean distance for validation data: ', np.mean(distances[1000:]))\n",
    "print('Standard deviation for validation data: ', np.std(distances[1000:]))"
   ]
  },
  {
   "cell_type": "code",
   "execution_count": null,
   "metadata": {},
   "outputs": [],
   "source": []
  }
 ],
 "metadata": {
  "kernelspec": {
   "display_name": "Python 3",
   "language": "python",
   "name": "python3"
  },
  "language_info": {
   "codemirror_mode": {
    "name": "ipython",
    "version": 3
   },
   "file_extension": ".py",
   "mimetype": "text/x-python",
   "name": "python",
   "nbconvert_exporter": "python",
   "pygments_lexer": "ipython3",
   "version": "3.8.8"
  }
 },
 "nbformat": 4,
 "nbformat_minor": 4
}
