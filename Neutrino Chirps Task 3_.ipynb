{
 "cells": [
  {
   "cell_type": "code",
   "execution_count": 1,
   "id": "cd52ec30",
   "metadata": {},
   "outputs": [
    {
     "name": "stderr",
     "output_type": "stream",
     "text": [
      "C:\\Users\\thuit\\anaconda3\\lib\\site-packages\\scipy\\__init__.py:138: UserWarning: A NumPy version >=1.16.5 and <1.23.0 is required for this version of SciPy (detected version 1.23.0)\n",
      "  warnings.warn(f\"A NumPy version >={np_minversion} and <{np_maxversion} is required for this version of \"\n"
     ]
    }
   ],
   "source": [
    "# Import relevant libraries\n",
    "import numpy as np\n",
    "import pandas as pd\n",
    "import tensorflow as tf\n",
    "from tensorflow import keras\n",
    "import matplotlib.pyplot as plt\n",
    "import cv2\n",
    "\n",
    "# import the urllib library\n",
    "import urllib.request\n",
    "import os #For checking if a file exists"
   ]
  },
  {
   "cell_type": "markdown",
   "id": "19b2bcc3",
   "metadata": {},
   "source": [
    "#### We will be testing a model that combines the wave and image data to see if this offers improved performance over either of the other data when they are trained on alone."
   ]
  },
  {
   "cell_type": "markdown",
   "id": "dc78cdf7",
   "metadata": {},
   "source": [
    "# Set up the data"
   ]
  },
  {
   "cell_type": "code",
   "execution_count": 2,
   "id": "674affb9",
   "metadata": {},
   "outputs": [
    {
     "name": "stdout",
     "output_type": "stream",
     "text": [
      "images0 has shape:  (1000, 600, 100)\n",
      "images1 has shape:  (1000, 600, 100)\n",
      "total concatenated images array has shape:  (1000, 600, 100)\n",
      "total concatenated waves array has shape:  (2000, 200000)\n"
     ]
    }
   ],
   "source": [
    "# Cres0\n",
    "images0=np.load(\"cresSpect0.npy\")\n",
    "waves0=np.load(\"cresWave0.npy\")\n",
    "#And read in the meta data\n",
    "df0=pd.read_csv(\"cresSpectMeta0.csv\")\n",
    "print('images0 has shape: ', np.shape(images0))\n",
    "\n",
    "# Cres 1\n",
    "images1=np.load(\"cresSpect1.npy\")\n",
    "waves1=np.load(\"cresWave1.npy\")\n",
    "#And read in the meta data\n",
    "df1=pd.read_csv(\"cresSpectMeta1.csv\")\n",
    "print('images1 has shape: ', np.shape(images0))\n",
    "\n",
    "# Concatenate images\n",
    "images = np.zeros((2000, 600, 100)) # Pre-allocate for speed\n",
    "images = np.concatenate((images0, images1), axis=0)\n",
    "print('total concatenated images array has shape: ', np.shape(images0))\n",
    "\n",
    "# Concatenate waves\n",
    "#waves = waves0\n",
    "#df = df0\n",
    "waves = np.zeros((2000, 200000)) # Pre-allocate for speed\n",
    "waves = np.concatenate((waves0, waves1), axis=0)\n",
    "print('total concatenated waves array has shape: ', np.shape(waves))"
   ]
  },
  {
   "cell_type": "markdown",
   "id": "067c3abc",
   "metadata": {},
   "source": [
    "## Set up labels"
   ]
  },
  {
   "cell_type": "code",
   "execution_count": 3,
   "id": "981aedee",
   "metadata": {},
   "outputs": [
    {
     "name": "stdout",
     "output_type": "stream",
     "text": [
      "t0 array shape:  (2000,)\n",
      "f0 array shape:  (2000,)\n",
      "Stacked labels shape: (2000, 2)\n"
     ]
    }
   ],
   "source": [
    "# Set up time and freq arrays\n",
    "t0_array_cres0 = df0['t0s']*1e3\n",
    "f0_array_cres0 = df0['f0s']/1e6\n",
    "\n",
    "t0_array_cres1 = df1['t0s']*1e3\n",
    "f0_array_cres1 = df1['f0s']/1e6\n",
    "\n",
    "\n",
    "\n",
    "# Concatenate arrays\n",
    "t0_array = np.concatenate((t0_array_cres0, t0_array_cres1), axis=0)\n",
    "f0_array = np.concatenate((f0_array_cres0, f0_array_cres1), axis=0)\n",
    "\n",
    "\n",
    "\n",
    "# Normalise arrays\n",
    "t0_array_max = np.max(t0_array)\n",
    "f0_array_max = np.max(f0_array)\n",
    "\n",
    "t0_array_normalised = t0_array/t0_array_max\n",
    "f0_array_normalised = f0_array/f0_array_max\n",
    "\n",
    "\n",
    "\n",
    "# Show shapes of arrays\n",
    "print('t0 array shape: ', np.shape(t0_array_normalised))\n",
    "print('f0 array shape: ', np.shape(f0_array_normalised))\n",
    "\n",
    "\n",
    "\n",
    "# Stack data:\n",
    "labels = np.stack((t0_array_normalised, f0_array_normalised), axis = 1)\n",
    "print('Stacked labels shape:', np.shape(labels))"
   ]
  },
  {
   "cell_type": "markdown",
   "id": "f2b25841",
   "metadata": {},
   "source": [
    "## Normalise the data"
   ]
  },
  {
   "cell_type": "code",
   "execution_count": 4,
   "id": "184b77e7",
   "metadata": {},
   "outputs": [],
   "source": [
    "# Pre-allocate array for speed\n",
    "normed_waves = np.zeros((2000, 200000))\n",
    "normed_images = np.zeros((2000, 600, 100))\n",
    "\n",
    "for i in range(2000):\n",
    "    normed_waves[i] = waves[i]/np.max(abs(waves[i]))\n",
    "    normed_images[i] = images[i]/np.max(images[i])"
   ]
  },
  {
   "cell_type": "markdown",
   "id": "2437ebb4",
   "metadata": {},
   "source": [
    "## De-noise images"
   ]
  },
  {
   "cell_type": "code",
   "execution_count": 5,
   "id": "9f3a710a",
   "metadata": {},
   "outputs": [
    {
     "data": {
      "text/plain": [
       "<matplotlib.colorbar.Colorbar at 0x2f94c5fc340>"
      ]
     },
     "execution_count": 5,
     "metadata": {},
     "output_type": "execute_result"
    },
    {
     "data": {
      "image/png": "[encoded data removed]",
      "text/plain": [
       "<Figure size 432x288 with 2 Axes>"
      ]
     },
     "metadata": {
      "needs_background": "light"
     },
     "output_type": "display_data"
    }
   ],
   "source": [
    "de_noised_images = np.zeros((2000, 600, 100))\n",
    "\n",
    "for i in range(2000):\n",
    "    image = np.array(normed_images[i])\n",
    "    kernel_size = 8 \n",
    "    kernel = np.ones((1, kernel_size)) / kernel_size\n",
    "    \n",
    "    filtered_image = cv2.filter2D(image, -1, kernel) # Apply filter using cv2.filter2D\n",
    "    blur_kernel_size = (5, 5) # Blur size\n",
    "    blurred_image = cv2.GaussianBlur(filtered_image/np.max(filtered_image), blur_kernel_size, 0) # Apply Gaussian blur\n",
    "    \n",
    "    threshold_value = 0.6 # Define threshold value\n",
    "    thresholded_image = np.where(blurred_image/np.max(blurred_image) < threshold_value, 0, blurred_image/np.max(blurred_image)) # Threshold the image\n",
    "    \n",
    "    de_noised_images[i] = thresholded_image/np.max(thresholded_image) # Append and normalise\n",
    "\n",
    "\n",
    "\n",
    "# Turn every non zero value into 1\n",
    "de_noised_images[de_noised_images != 0] = 1\n",
    "\n",
    "\n",
    "\n",
    "# Test an image:\n",
    "whichImage = 1500\n",
    "\n",
    "plt.imshow(de_noised_images[whichImage], cmap='gray', extent=[0,2,10,40], aspect='auto', origin='lower')\n",
    "plt.plot(labels[whichImage, 0]*t0_array_max, labels[whichImage, 1]*f0_array_max, 'r+')\n",
    "plt.colorbar()"
   ]
  },
  {
   "cell_type": "markdown",
   "id": "475dc5b0",
   "metadata": {},
   "source": [
    "# Test a non-convolutional neural network"
   ]
  },
  {
   "cell_type": "code",
   "execution_count": 7,
   "id": "98ed6312",
   "metadata": {},
   "outputs": [],
   "source": [
    "num_samples = 1700  # Number of training samples\n",
    "\n",
    "train_waves = normed_waves[:num_samples]  # Create waves training sample, shape (num_samples, 200000)\n",
    "train_images = de_noised_images[:num_samples] # Create images training sample, shape (num_samples, 600, 100)\n",
    "train_labels = labels[:num_samples]  # Training labels, shape (num_samples, 2)\n",
    "\n",
    "\n",
    "\n",
    "val_waves = normed_waves[num_samples:]  # Create waves validation sample\n",
    "val_images = de_noised_images[num_samples:] # Create images validation sample\n",
    "val_labels = labels[num_samples:]  # Validation labels\n",
    "\n",
    "\n",
    "\n",
    "# Reshape the data to match expected input shape\n",
    "train_waves_reshaped = np.expand_dims(train_waves, axis=-1)\n",
    "train_images_reshaped = np.reshape(train_images, (num_samples, 600, 100, 1))\n",
    "\n",
    "\n",
    "val_waves_reshaped = np.expand_dims(val_waves, axis=-1)\n",
    "val_images_reshaped = np.reshape(val_images, (2000-num_samples, 600, 100, 1))"
   ]
  },
  {
   "cell_type": "code",
   "execution_count": 11,
   "id": "c9a9c49f",
   "metadata": {},
   "outputs": [
    {
     "name": "stdout",
     "output_type": "stream",
     "text": [
      "Epoch 1/10\n",
      "54/54 [==============================] - 12s 203ms/step - loss: 0.0466 - accuracy: 0.8424 - val_loss: 0.0294 - val_accuracy: 0.8267\n",
      "Epoch 2/10\n",
      "54/54 [==============================] - 9s 171ms/step - loss: 0.0313 - accuracy: 0.8671 - val_loss: 0.0309 - val_accuracy: 0.8233\n",
      "Epoch 3/10\n",
      "54/54 [==============================] - 9s 171ms/step - loss: 0.0114 - accuracy: 0.8859 - val_loss: 0.0240 - val_accuracy: 0.8233\n",
      "Epoch 4/10\n",
      "54/54 [==============================] - 9s 172ms/step - loss: 0.0072 - accuracy: 0.9106 - val_loss: 0.0247 - val_accuracy: 0.8233\n",
      "Epoch 5/10\n",
      "54/54 [==============================] - 9s 172ms/step - loss: 0.0054 - accuracy: 0.9265 - val_loss: 0.0243 - val_accuracy: 0.8233\n",
      "Epoch 6/10\n",
      "54/54 [==============================] - 9s 172ms/step - loss: 0.0048 - accuracy: 0.9335 - val_loss: 0.0227 - val_accuracy: 0.8300\n",
      "Epoch 7/10\n",
      "54/54 [==============================] - 9s 172ms/step - loss: 0.0043 - accuracy: 0.9312 - val_loss: 0.0212 - val_accuracy: 0.8300\n",
      "Epoch 8/10\n",
      "54/54 [==============================] - 9s 171ms/step - loss: 0.0033 - accuracy: 0.9418 - val_loss: 0.0210 - val_accuracy: 0.8333\n",
      "Epoch 9/10\n",
      "54/54 [==============================] - 9s 173ms/step - loss: 0.0028 - accuracy: 0.9441 - val_loss: 0.0197 - val_accuracy: 0.8300\n",
      "Epoch 10/10\n",
      "54/54 [==============================] - 9s 172ms/step - loss: 0.0026 - accuracy: 0.9524 - val_loss: 0.0215 - val_accuracy: 0.8267\n"
     ]
    }
   ],
   "source": [
    "# Define input layers for each type of data\n",
    "input_wave = keras.layers.Input(shape=(200000, 1))\n",
    "input_image = keras.layers.Input(shape=(600, 100, 1))\n",
    "\n",
    "\n",
    "\n",
    "# Define the CNN for image data\n",
    "flatten_layer = keras.layers.Flatten()(input_image)\n",
    "dense_layer_image = keras.layers.Dense(128, activation='relu')(flatten_layer)\n",
    "dense_layer_image = keras.layers.Dropout(0.3)(dense_layer_image)\n",
    "dense_layer_image = keras.layers.Dense(1024, activation='relu')(dense_layer_image)\n",
    "dense_layer_image = keras.layers.Dropout(0.3)(dense_layer_image)\n",
    "dense_layer_image = keras.layers.Dense(1024, activation='relu')(dense_layer_image)\n",
    "\n",
    "# Define the CNN for waveform data\n",
    "flatten_wave = keras.layers.Flatten()(input_wave)\n",
    "dense_layer_wave = keras.layers.Dense(64, activation='relu')(flatten_wave)\n",
    "dense_layer_wave = keras.layers.Dropout(0.3)(dense_layer_wave)\n",
    "dense_layer_wave = keras.layers.Dense(1024, activation='relu')(dense_layer_wave)\n",
    "dense_layer_wave = keras.layers.Dropout(0.3)(dense_layer_wave)\n",
    "dense_layer_wave = keras.layers.Dense(1024, activation='relu')(dense_layer_wave)\n",
    "\n",
    "# Concatenate the output from both CNNs\n",
    "concatenated = keras.layers.concatenate([dense_layer_image, dense_layer_wave])\n",
    "\n",
    "# Final output layer\n",
    "output = keras.layers.Dense(2, activation='sigmoid')(concatenated)\n",
    "\n",
    "# Create model\n",
    "model = keras.models.Model(inputs=[input_wave, input_image], outputs=output)\n",
    "\n",
    "# Compile model\n",
    "model.compile(optimizer='adam', loss='mse', metrics=['accuracy'])\n",
    "\n",
    "\n",
    "\n",
    "# Train the model\n",
    "history = model.fit([train_waves_reshaped, train_images_reshaped], train_labels, epochs=10, batch_size=32,\n",
    "                    validation_data = ([val_waves_reshaped, val_images_reshaped], val_labels))"
   ]
  },
  {
   "cell_type": "code",
   "execution_count": 12,
   "id": "ca7b9eb2",
   "metadata": {},
   "outputs": [
    {
     "data": {
      "text/plain": [
       "<matplotlib.legend.Legend at 0x2f9585ea760>"
      ]
     },
     "execution_count": 12,
     "metadata": {},
     "output_type": "execute_result"
    },
    {
     "data": {
      "image/png": "[encoded data removed]",
      "text/plain": [
       "<Figure size 432x288 with 1 Axes>"
      ]
     },
     "metadata": {
      "needs_background": "light"
     },
     "output_type": "display_data"
    }
   ],
   "source": [
    "plt.plot(history.history['loss'], label='loss')\n",
    "plt.plot(history.history['val_loss'], label = 'val_loss')\n",
    "plt.title('Loss against epoch')\n",
    "plt.xlabel('Epoch')\n",
    "plt.ylabel('Loss')\n",
    "plt.legend(loc='upper right')"
   ]
  },
  {
   "cell_type": "markdown",
   "id": "4e8b0f1c",
   "metadata": {},
   "source": [
    "# To test this model, garbage collection will be required. This allows us to free up memory to make predictions on the data, as this model is  very computationally expensive, and takes up a large amount of memory."
   ]
  },
  {
   "cell_type": "code",
   "execution_count": 13,
   "id": "ff5bb77c",
   "metadata": {},
   "outputs": [
    {
     "data": {
      "text/plain": [
       "1741"
      ]
     },
     "execution_count": 13,
     "metadata": {},
     "output_type": "execute_result"
    }
   ],
   "source": [
    "# Garbage collection to free memory\n",
    "import gc\n",
    "\n",
    "# Clear variables to free memory\n",
    "del train_waves\n",
    "del train_images\n",
    "del train_labels\n",
    "\n",
    "del train_waves_reshaped\n",
    "del train_images_reshaped\n",
    "\n",
    "del normed_images\n",
    "\n",
    "del t0_array_cres0\n",
    "del f0_array_cres0\n",
    "\n",
    "del t0_array_cres1\n",
    "del f0_array_cres1\n",
    "\n",
    "del t0_array\n",
    "del f0_array\n",
    "\n",
    "# Garbage collection\n",
    "gc.collect()"
   ]
  },
  {
   "cell_type": "code",
   "execution_count": 14,
   "id": "872b0a2e",
   "metadata": {},
   "outputs": [
    {
     "name": "stdout",
     "output_type": "stream",
     "text": [
      "63/63 [==============================] - 1s 17ms/step\n"
     ]
    }
   ],
   "source": [
    "num_samples = 2000 # Number of prediction samples to test the model\n",
    "\n",
    "test_images = de_noised_images[:num_samples]\n",
    "test_images_reshaped = np.reshape(test_images, (num_samples, 600, 100, 1))\n",
    "\n",
    "test_waves = normed_waves[:num_samples]\n",
    "test_waves_reshaped = np.expand_dims(test_waves, axis=-1)\n",
    "\n",
    "predictions = model.predict([test_waves_reshaped, test_images_reshaped])"
   ]
  },
  {
   "cell_type": "code",
   "execution_count": 15,
   "id": "72382f7b",
   "metadata": {},
   "outputs": [
    {
     "name": "stdout",
     "output_type": "stream",
     "text": [
      "Mean distance for train data:  0.048677623048645945\n",
      "Standard deviation for train data:  0.02690091211014161\n",
      " \n",
      "Mean distance for validation data:  0.17529319605652205\n",
      "Standard deviation for validation data:  0.11051369580944596\n"
     ]
    }
   ],
   "source": [
    "# Calculate squared differences between the coordinates\n",
    "squared_diff = np.sum(abs(predictions - labels) ** 2, axis=1)\n",
    "\n",
    "# Take square root of the sum to get distance\n",
    "distances = np.sqrt(squared_diff)\n",
    "\n",
    "\n",
    "\n",
    "print('Mean distance for train data: ', np.mean(distances[:1700]))\n",
    "print('Standard deviation for train data: ', np.std(distances[:1700]))\n",
    "print(' ') # Blank line\n",
    "print('Mean distance for validation data: ', np.mean(distances[1700:]))\n",
    "print('Standard deviation for validation data: ', np.std(distances[1700:]))"
   ]
  },
  {
   "cell_type": "markdown",
   "id": "801768b7",
   "metadata": {},
   "source": [
    "#### This model overfits significantly. However, it does exceptionally well on the training data. Hence, with further research, this model could prove extremely effective on unseen data. It also runs very quickly, so it could be well suited as a general purpose prediction model, being both fast and accurate."
   ]
  },
  {
   "cell_type": "code",
   "execution_count": null,
   "id": "3b8bfe47",
   "metadata": {},
   "outputs": [],
   "source": []
  }
 ],
 "metadata": {
  "kernelspec": {
   "display_name": "Python 3",
   "language": "python",
   "name": "python3"
  },
  "language_info": {
   "codemirror_mode": {
    "name": "ipython",
    "version": 3
   },
   "file_extension": ".py",
   "mimetype": "text/x-python",
   "name": "python",
   "nbconvert_exporter": "python",
   "pygments_lexer": "ipython3",
   "version": "3.8.8"
  }
 },
 "nbformat": 4,
 "nbformat_minor": 5
}
